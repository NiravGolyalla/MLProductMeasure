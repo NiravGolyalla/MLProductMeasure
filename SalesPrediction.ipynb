{
 "cells": [
  {
   "cell_type": "code",
   "execution_count": 72,
   "id": "49975afc-ab13-4fc5-a58f-29fe3182aa6f",
   "metadata": {},
   "outputs": [],
   "source": [
    "import pandas as pd\n",
    "import numpy as np\n",
    "from tensorflow.keras.models import Sequential\n",
    "from tensorflow.keras.layers import *\n",
    "from tensorflow.keras.callbacks import ModelCheckpoint\n",
    "from tensorflow.keras.losses import MeanSquaredError\n",
    "from tensorflow.keras.metrics import RootMeanSquaredError\n",
    "from tensorflow.keras.optimizers import *\n",
    "from keras import initializers\n",
    "from tensorflow.keras import regularizers\n",
    "import keras\n",
    "from sklearn.preprocessing import *"
   ]
  },
  {
   "cell_type": "code",
   "execution_count": 34,
   "id": "97bf3f96",
   "metadata": {},
   "outputs": [
    {
     "data": {
      "text/html": [
       "<div>\n",
       "<style scoped>\n",
       "    .dataframe tbody tr th:only-of-type {\n",
       "        vertical-align: middle;\n",
       "    }\n",
       "\n",
       "    .dataframe tbody tr th {\n",
       "        vertical-align: top;\n",
       "    }\n",
       "\n",
       "    .dataframe thead th {\n",
       "        text-align: right;\n",
       "    }\n",
       "</style>\n",
       "<table border=\"1\" class=\"dataframe\">\n",
       "  <thead>\n",
       "    <tr style=\"text-align: right;\">\n",
       "      <th></th>\n",
       "      <th>ParentSKU</th>\n",
       "      <th>Site Id</th>\n",
       "      <th>Category Name ID</th>\n",
       "      <th>Qty</th>\n",
       "      <th>Price</th>\n",
       "      <th>Net Sales calculated</th>\n",
       "      <th>Cash Discount</th>\n",
       "      <th>MRP</th>\n",
       "      <th>Pack Size</th>\n",
       "      <th>State</th>\n",
       "      <th>Zone</th>\n",
       "      <th>Date</th>\n",
       "    </tr>\n",
       "  </thead>\n",
       "  <tbody>\n",
       "    <tr>\n",
       "      <th>0</th>\n",
       "      <td>0</td>\n",
       "      <td>0</td>\n",
       "      <td>0</td>\n",
       "      <td>1621.0</td>\n",
       "      <td>54</td>\n",
       "      <td>82557</td>\n",
       "      <td>20</td>\n",
       "      <td>80.0</td>\n",
       "      <td>30.0</td>\n",
       "      <td>0</td>\n",
       "      <td>0</td>\n",
       "      <td>2017-04-01</td>\n",
       "    </tr>\n",
       "    <tr>\n",
       "      <th>1</th>\n",
       "      <td>0</td>\n",
       "      <td>0</td>\n",
       "      <td>0</td>\n",
       "      <td>651.0</td>\n",
       "      <td>51</td>\n",
       "      <td>31473</td>\n",
       "      <td>21</td>\n",
       "      <td>80.0</td>\n",
       "      <td>30.0</td>\n",
       "      <td>0</td>\n",
       "      <td>0</td>\n",
       "      <td>2017-05-01</td>\n",
       "    </tr>\n",
       "    <tr>\n",
       "      <th>2</th>\n",
       "      <td>0</td>\n",
       "      <td>0</td>\n",
       "      <td>0</td>\n",
       "      <td>457.0</td>\n",
       "      <td>46</td>\n",
       "      <td>19580</td>\n",
       "      <td>12</td>\n",
       "      <td>70.0</td>\n",
       "      <td>30.0</td>\n",
       "      <td>0</td>\n",
       "      <td>0</td>\n",
       "      <td>2017-06-01</td>\n",
       "    </tr>\n",
       "    <tr>\n",
       "      <th>3</th>\n",
       "      <td>0</td>\n",
       "      <td>0</td>\n",
       "      <td>0</td>\n",
       "      <td>1985.0</td>\n",
       "      <td>41</td>\n",
       "      <td>78144</td>\n",
       "      <td>0</td>\n",
       "      <td>70.0</td>\n",
       "      <td>30.0</td>\n",
       "      <td>0</td>\n",
       "      <td>0</td>\n",
       "      <td>2017-07-01</td>\n",
       "    </tr>\n",
       "    <tr>\n",
       "      <th>4</th>\n",
       "      <td>0</td>\n",
       "      <td>0</td>\n",
       "      <td>0</td>\n",
       "      <td>6.0</td>\n",
       "      <td>38</td>\n",
       "      <td>228</td>\n",
       "      <td>0</td>\n",
       "      <td>70.0</td>\n",
       "      <td>30.0</td>\n",
       "      <td>0</td>\n",
       "      <td>0</td>\n",
       "      <td>2017-08-01</td>\n",
       "    </tr>\n",
       "    <tr>\n",
       "      <th>...</th>\n",
       "      <td>...</td>\n",
       "      <td>...</td>\n",
       "      <td>...</td>\n",
       "      <td>...</td>\n",
       "      <td>...</td>\n",
       "      <td>...</td>\n",
       "      <td>...</td>\n",
       "      <td>...</td>\n",
       "      <td>...</td>\n",
       "      <td>...</td>\n",
       "      <td>...</td>\n",
       "      <td>...</td>\n",
       "    </tr>\n",
       "    <tr>\n",
       "      <th>42206</th>\n",
       "      <td>51</td>\n",
       "      <td>24</td>\n",
       "      <td>1</td>\n",
       "      <td>1179.0</td>\n",
       "      <td>40</td>\n",
       "      <td>44215</td>\n",
       "      <td>0</td>\n",
       "      <td>60.0</td>\n",
       "      <td>120.0</td>\n",
       "      <td>0</td>\n",
       "      <td>3</td>\n",
       "      <td>2019-10-01</td>\n",
       "    </tr>\n",
       "    <tr>\n",
       "      <th>42207</th>\n",
       "      <td>51</td>\n",
       "      <td>24</td>\n",
       "      <td>1</td>\n",
       "      <td>81.0</td>\n",
       "      <td>40</td>\n",
       "      <td>2947</td>\n",
       "      <td>0</td>\n",
       "      <td>60.0</td>\n",
       "      <td>120.0</td>\n",
       "      <td>0</td>\n",
       "      <td>3</td>\n",
       "      <td>2019-11-01</td>\n",
       "    </tr>\n",
       "    <tr>\n",
       "      <th>42208</th>\n",
       "      <td>51</td>\n",
       "      <td>24</td>\n",
       "      <td>1</td>\n",
       "      <td>81.0</td>\n",
       "      <td>40</td>\n",
       "      <td>2947</td>\n",
       "      <td>0</td>\n",
       "      <td>60.0</td>\n",
       "      <td>120.0</td>\n",
       "      <td>0</td>\n",
       "      <td>3</td>\n",
       "      <td>2019-12-01</td>\n",
       "    </tr>\n",
       "    <tr>\n",
       "      <th>42209</th>\n",
       "      <td>51</td>\n",
       "      <td>24</td>\n",
       "      <td>1</td>\n",
       "      <td>580.0</td>\n",
       "      <td>40</td>\n",
       "      <td>21125</td>\n",
       "      <td>0</td>\n",
       "      <td>60.0</td>\n",
       "      <td>120.0</td>\n",
       "      <td>0</td>\n",
       "      <td>3</td>\n",
       "      <td>2020-01-01</td>\n",
       "    </tr>\n",
       "    <tr>\n",
       "      <th>42210</th>\n",
       "      <td>51</td>\n",
       "      <td>24</td>\n",
       "      <td>1</td>\n",
       "      <td>180.0</td>\n",
       "      <td>40</td>\n",
       "      <td>6550</td>\n",
       "      <td>0</td>\n",
       "      <td>60.0</td>\n",
       "      <td>120.0</td>\n",
       "      <td>0</td>\n",
       "      <td>3</td>\n",
       "      <td>2020-02-01</td>\n",
       "    </tr>\n",
       "  </tbody>\n",
       "</table>\n",
       "<p>42211 rows × 12 columns</p>\n",
       "</div>"
      ],
      "text/plain": [
       "       ParentSKU  Site Id  Category Name ID     Qty  Price  \\\n",
       "0              0        0                 0  1621.0     54   \n",
       "1              0        0                 0   651.0     51   \n",
       "2              0        0                 0   457.0     46   \n",
       "3              0        0                 0  1985.0     41   \n",
       "4              0        0                 0     6.0     38   \n",
       "...          ...      ...               ...     ...    ...   \n",
       "42206         51       24                 1  1179.0     40   \n",
       "42207         51       24                 1    81.0     40   \n",
       "42208         51       24                 1    81.0     40   \n",
       "42209         51       24                 1   580.0     40   \n",
       "42210         51       24                 1   180.0     40   \n",
       "\n",
       "       Net Sales calculated  Cash Discount   MRP  Pack Size  State  Zone  \\\n",
       "0                     82557             20  80.0       30.0      0     0   \n",
       "1                     31473             21  80.0       30.0      0     0   \n",
       "2                     19580             12  70.0       30.0      0     0   \n",
       "3                     78144              0  70.0       30.0      0     0   \n",
       "4                       228              0  70.0       30.0      0     0   \n",
       "...                     ...            ...   ...        ...    ...   ...   \n",
       "42206                 44215              0  60.0      120.0      0     3   \n",
       "42207                  2947              0  60.0      120.0      0     3   \n",
       "42208                  2947              0  60.0      120.0      0     3   \n",
       "42209                 21125              0  60.0      120.0      0     3   \n",
       "42210                  6550              0  60.0      120.0      0     3   \n",
       "\n",
       "            Date  \n",
       "0     2017-04-01  \n",
       "1     2017-05-01  \n",
       "2     2017-06-01  \n",
       "3     2017-07-01  \n",
       "4     2017-08-01  \n",
       "...          ...  \n",
       "42206 2019-10-01  \n",
       "42207 2019-11-01  \n",
       "42208 2019-12-01  \n",
       "42209 2020-01-01  \n",
       "42210 2020-02-01  \n",
       "\n",
       "[42211 rows x 12 columns]"
      ]
     },
     "execution_count": 34,
     "metadata": {},
     "output_type": "execute_result"
    }
   ],
   "source": [
    "#Clean the cosmetic data\n",
    "cos_df = pd.read_csv('data/Cosmetic_products_sales.csv')\n",
    "\n",
    "cos_df = cos_df.drop(columns=['Unit',\"Pack Unit Id\",'Master Category','Size','Rank','Date','Amount to Customer']).dropna()\n",
    "\n",
    "default = [4,2017]\n",
    "current = default.copy()\n",
    "\n",
    "missing_times = []\n",
    "last = ''\n",
    "past = 0\n",
    "\n",
    "counter = 0\n",
    "# Iterate through each row in the dataframe\n",
    "for index, row in cos_df.iterrows():\n",
    "    curr = row['Site Id']\n",
    "    month = row['Month']\n",
    "    year = row['Year']\n",
    "\n",
    "    counter += 1\n",
    "    if curr != last:\n",
    "        current = default.copy()\n",
    "        past = row[\"Net Sales calculated\"]\n",
    "        last = curr\n",
    "\n",
    "    while month != current[0] or year != current[1]:\n",
    "        dup = row.copy()\n",
    "        dup['Month'] = current[0]\n",
    "        dup['Year'] = current[1]\n",
    "        \n",
    "        missing_times.append(dup.tolist())\n",
    "        current[0] += 1\n",
    "        if current[0] > 12:\n",
    "            current[0] = 1\n",
    "            current[1] += 1\n",
    "    current[0] += 1\n",
    "    if current[0] > 12:\n",
    "        current[0] = 1\n",
    "        current[1] += 1\n",
    "    # cos_df.loc[index, \"Net Sales calculated\"] -= past\n",
    "\n",
    "missing_df = pd.DataFrame(missing_times, columns=cos_df.columns)\n",
    "cos_df = pd.concat([cos_df, missing_df], ignore_index=True)\n",
    "\n",
    "cos_df['Date'] = cos_df['Year'].astype(str) + '-' + cos_df['Month'].astype(str)\n",
    "\n",
    "# Convert the combined column to datetime\n",
    "cos_df['Date'] = pd.to_datetime(cos_df['Date'])\n",
    "\n",
    "# Drop the original year and month columns if needed\n",
    "cos_df = cos_df.drop(columns=['Year', 'Month'])\n",
    "\n",
    "string_encoded = ['ParentSKU', 'Site Id','State','Zone']\n",
    "# normalize = [\"Net Sales calculated\",\"Cash Discount\",\"Amount to Customer\",\"Qty\",\"Price\",\"MRP\",\"Pack Size\"]\n",
    "cos_df_sales = cos_df[\"Net Sales calculated\"]\n",
    "\n",
    "for i in cos_df.columns:\n",
    "    if i in string_encoded:\n",
    "        cos_df[i] = pd.factorize(cos_df[i])[0]\n",
    "        \n",
    "cos_df = cos_df.sort_values(by=['ParentSKU','Site Id','Date']).reset_index(drop=True)\n",
    "cos_df"
   ]
  },
  {
   "cell_type": "code",
   "execution_count": 35,
   "id": "ef280efc",
   "metadata": {},
   "outputs": [
    {
     "data": {
      "text/plain": [
       "4"
      ]
     },
     "execution_count": 35,
     "metadata": {},
     "output_type": "execute_result"
    }
   ],
   "source": [
    "cos_df = cos_df.drop(columns=['Cash Discount','MRP','Pack Size','State','Zone','Date','Category Name ID']).dropna()\n",
    "# cos_df\n",
    "#important define current row\n",
    "curr_row = cos_df.columns.get_loc('Net Sales calculated') \n",
    "curr_row"
   ]
  },
  {
   "cell_type": "code",
   "execution_count": 36,
   "id": "dd252ba7",
   "metadata": {},
   "outputs": [],
   "source": [
    "scalar = StandardScaler()\n",
    "scalar.fit(cos_df)\n",
    "cos_data = scalar.transform(cos_df)\n",
    "cos_data\n",
    "a = scalar.inverse_transform(cos_data)"
   ]
  },
  {
   "cell_type": "code",
   "execution_count": 37,
   "id": "3b3e3941",
   "metadata": {},
   "outputs": [],
   "source": [
    "def timeseries_cos_data(cos_data ,cos_answers,window_size=6,sample_size=33):\n",
    "    cos_np = cos_data.astype(float) \n",
    "    x = []\n",
    "    y = []\n",
    "    for i in range(len(cos_np)//sample_size):\n",
    "        for j in range(sample_size-window_size):\n",
    "            row = [k for k in cos_np[i*sample_size+j:i*sample_size+j+window_size]]    \n",
    "            x.append(row)\n",
    "            y.append(cos_data[i*sample_size+j+window_size][curr_row].astype(float))\n",
    "    return np.array(x), np.array(y)\n",
    "cos_x, cos_y = timeseries_cos_data(cos_data,cos_df_sales)\n",
    "cos_y = cos_y.reshape(cos_y.shape[0],1)"
   ]
  },
  {
   "cell_type": "code",
   "execution_count": 38,
   "id": "76519ca7",
   "metadata": {},
   "outputs": [
    {
     "data": {
      "text/plain": [
       "((30000, 6, 5), (30000, 1))"
      ]
     },
     "execution_count": 38,
     "metadata": {},
     "output_type": "execute_result"
    }
   ],
   "source": [
    "limit = 30000\n",
    "\n",
    "cos_train_x, cos_train_y = cos_x[:limit],cos_y[:limit]\n",
    "cos_test_x, cos_test_y = cos_x[limit:],cos_y[limit:]\n",
    "cos_train_x.shape, cos_train_y.shape"
   ]
  },
  {
   "cell_type": "code",
   "execution_count": 74,
   "id": "7a8de2aa",
   "metadata": {},
   "outputs": [
    {
     "data": {
      "text/html": [
       "<pre style=\"white-space:pre;overflow-x:auto;line-height:normal;font-family:Menlo,'DejaVu Sans Mono',consolas,'Courier New',monospace\"><span style=\"font-weight: bold\">Model: \"sequential_6\"</span>\n",
       "</pre>\n"
      ],
      "text/plain": [
       "\u001b[1mModel: \"sequential_6\"\u001b[0m\n"
      ]
     },
     "metadata": {},
     "output_type": "display_data"
    },
    {
     "data": {
      "text/html": [
       "<pre style=\"white-space:pre;overflow-x:auto;line-height:normal;font-family:Menlo,'DejaVu Sans Mono',consolas,'Courier New',monospace\">┏━━━━━━━━━━━━━━━━━━━━━━━━━━━━━━━━━┳━━━━━━━━━━━━━━━━━━━━━━━━┳━━━━━━━━━━━━━━━┓\n",
       "┃<span style=\"font-weight: bold\"> Layer (type)                    </span>┃<span style=\"font-weight: bold\"> Output Shape           </span>┃<span style=\"font-weight: bold\">       Param # </span>┃\n",
       "┡━━━━━━━━━━━━━━━━━━━━━━━━━━━━━━━━━╇━━━━━━━━━━━━━━━━━━━━━━━━╇━━━━━━━━━━━━━━━┩\n",
       "│ lstm_29 (<span style=\"color: #0087ff; text-decoration-color: #0087ff\">LSTM</span>)                  │ (<span style=\"color: #00d7ff; text-decoration-color: #00d7ff\">None</span>, <span style=\"color: #00af00; text-decoration-color: #00af00\">6</span>, <span style=\"color: #00af00; text-decoration-color: #00af00\">128</span>)         │        <span style=\"color: #00af00; text-decoration-color: #00af00\">68,608</span> │\n",
       "├─────────────────────────────────┼────────────────────────┼───────────────┤\n",
       "│ lstm_30 (<span style=\"color: #0087ff; text-decoration-color: #0087ff\">LSTM</span>)                  │ (<span style=\"color: #00d7ff; text-decoration-color: #00d7ff\">None</span>, <span style=\"color: #00af00; text-decoration-color: #00af00\">6</span>, <span style=\"color: #00af00; text-decoration-color: #00af00\">64</span>)          │        <span style=\"color: #00af00; text-decoration-color: #00af00\">49,408</span> │\n",
       "├─────────────────────────────────┼────────────────────────┼───────────────┤\n",
       "│ lstm_31 (<span style=\"color: #0087ff; text-decoration-color: #0087ff\">LSTM</span>)                  │ (<span style=\"color: #00d7ff; text-decoration-color: #00d7ff\">None</span>, <span style=\"color: #00af00; text-decoration-color: #00af00\">6</span>, <span style=\"color: #00af00; text-decoration-color: #00af00\">32</span>)          │        <span style=\"color: #00af00; text-decoration-color: #00af00\">12,416</span> │\n",
       "├─────────────────────────────────┼────────────────────────┼───────────────┤\n",
       "│ lstm_32 (<span style=\"color: #0087ff; text-decoration-color: #0087ff\">LSTM</span>)                  │ (<span style=\"color: #00d7ff; text-decoration-color: #00d7ff\">None</span>, <span style=\"color: #00af00; text-decoration-color: #00af00\">6</span>, <span style=\"color: #00af00; text-decoration-color: #00af00\">16</span>)          │         <span style=\"color: #00af00; text-decoration-color: #00af00\">3,136</span> │\n",
       "├─────────────────────────────────┼────────────────────────┼───────────────┤\n",
       "│ lstm_33 (<span style=\"color: #0087ff; text-decoration-color: #0087ff\">LSTM</span>)                  │ (<span style=\"color: #00d7ff; text-decoration-color: #00d7ff\">None</span>, <span style=\"color: #00af00; text-decoration-color: #00af00\">8</span>)              │           <span style=\"color: #00af00; text-decoration-color: #00af00\">800</span> │\n",
       "├─────────────────────────────────┼────────────────────────┼───────────────┤\n",
       "│ dense_10 (<span style=\"color: #0087ff; text-decoration-color: #0087ff\">Dense</span>)                │ (<span style=\"color: #00d7ff; text-decoration-color: #00d7ff\">None</span>, <span style=\"color: #00af00; text-decoration-color: #00af00\">8</span>)              │            <span style=\"color: #00af00; text-decoration-color: #00af00\">72</span> │\n",
       "├─────────────────────────────────┼────────────────────────┼───────────────┤\n",
       "│ dense_11 (<span style=\"color: #0087ff; text-decoration-color: #0087ff\">Dense</span>)                │ (<span style=\"color: #00d7ff; text-decoration-color: #00d7ff\">None</span>, <span style=\"color: #00af00; text-decoration-color: #00af00\">1</span>)              │             <span style=\"color: #00af00; text-decoration-color: #00af00\">9</span> │\n",
       "└─────────────────────────────────┴────────────────────────┴───────────────┘\n",
       "</pre>\n"
      ],
      "text/plain": [
       "┏━━━━━━━━━━━━━━━━━━━━━━━━━━━━━━━━━┳━━━━━━━━━━━━━━━━━━━━━━━━┳━━━━━━━━━━━━━━━┓\n",
       "┃\u001b[1m \u001b[0m\u001b[1mLayer (type)                   \u001b[0m\u001b[1m \u001b[0m┃\u001b[1m \u001b[0m\u001b[1mOutput Shape          \u001b[0m\u001b[1m \u001b[0m┃\u001b[1m \u001b[0m\u001b[1m      Param #\u001b[0m\u001b[1m \u001b[0m┃\n",
       "┡━━━━━━━━━━━━━━━━━━━━━━━━━━━━━━━━━╇━━━━━━━━━━━━━━━━━━━━━━━━╇━━━━━━━━━━━━━━━┩\n",
       "│ lstm_29 (\u001b[38;5;33mLSTM\u001b[0m)                  │ (\u001b[38;5;45mNone\u001b[0m, \u001b[38;5;34m6\u001b[0m, \u001b[38;5;34m128\u001b[0m)         │        \u001b[38;5;34m68,608\u001b[0m │\n",
       "├─────────────────────────────────┼────────────────────────┼───────────────┤\n",
       "│ lstm_30 (\u001b[38;5;33mLSTM\u001b[0m)                  │ (\u001b[38;5;45mNone\u001b[0m, \u001b[38;5;34m6\u001b[0m, \u001b[38;5;34m64\u001b[0m)          │        \u001b[38;5;34m49,408\u001b[0m │\n",
       "├─────────────────────────────────┼────────────────────────┼───────────────┤\n",
       "│ lstm_31 (\u001b[38;5;33mLSTM\u001b[0m)                  │ (\u001b[38;5;45mNone\u001b[0m, \u001b[38;5;34m6\u001b[0m, \u001b[38;5;34m32\u001b[0m)          │        \u001b[38;5;34m12,416\u001b[0m │\n",
       "├─────────────────────────────────┼────────────────────────┼───────────────┤\n",
       "│ lstm_32 (\u001b[38;5;33mLSTM\u001b[0m)                  │ (\u001b[38;5;45mNone\u001b[0m, \u001b[38;5;34m6\u001b[0m, \u001b[38;5;34m16\u001b[0m)          │         \u001b[38;5;34m3,136\u001b[0m │\n",
       "├─────────────────────────────────┼────────────────────────┼───────────────┤\n",
       "│ lstm_33 (\u001b[38;5;33mLSTM\u001b[0m)                  │ (\u001b[38;5;45mNone\u001b[0m, \u001b[38;5;34m8\u001b[0m)              │           \u001b[38;5;34m800\u001b[0m │\n",
       "├─────────────────────────────────┼────────────────────────┼───────────────┤\n",
       "│ dense_10 (\u001b[38;5;33mDense\u001b[0m)                │ (\u001b[38;5;45mNone\u001b[0m, \u001b[38;5;34m8\u001b[0m)              │            \u001b[38;5;34m72\u001b[0m │\n",
       "├─────────────────────────────────┼────────────────────────┼───────────────┤\n",
       "│ dense_11 (\u001b[38;5;33mDense\u001b[0m)                │ (\u001b[38;5;45mNone\u001b[0m, \u001b[38;5;34m1\u001b[0m)              │             \u001b[38;5;34m9\u001b[0m │\n",
       "└─────────────────────────────────┴────────────────────────┴───────────────┘\n"
      ]
     },
     "metadata": {},
     "output_type": "display_data"
    },
    {
     "data": {
      "text/html": [
       "<pre style=\"white-space:pre;overflow-x:auto;line-height:normal;font-family:Menlo,'DejaVu Sans Mono',consolas,'Courier New',monospace\"><span style=\"font-weight: bold\"> Total params: </span><span style=\"color: #00af00; text-decoration-color: #00af00\">134,449</span> (525.19 KB)\n",
       "</pre>\n"
      ],
      "text/plain": [
       "\u001b[1m Total params: \u001b[0m\u001b[38;5;34m134,449\u001b[0m (525.19 KB)\n"
      ]
     },
     "metadata": {},
     "output_type": "display_data"
    },
    {
     "data": {
      "text/html": [
       "<pre style=\"white-space:pre;overflow-x:auto;line-height:normal;font-family:Menlo,'DejaVu Sans Mono',consolas,'Courier New',monospace\"><span style=\"font-weight: bold\"> Trainable params: </span><span style=\"color: #00af00; text-decoration-color: #00af00\">134,449</span> (525.19 KB)\n",
       "</pre>\n"
      ],
      "text/plain": [
       "\u001b[1m Trainable params: \u001b[0m\u001b[38;5;34m134,449\u001b[0m (525.19 KB)\n"
      ]
     },
     "metadata": {},
     "output_type": "display_data"
    },
    {
     "data": {
      "text/html": [
       "<pre style=\"white-space:pre;overflow-x:auto;line-height:normal;font-family:Menlo,'DejaVu Sans Mono',consolas,'Courier New',monospace\"><span style=\"font-weight: bold\"> Non-trainable params: </span><span style=\"color: #00af00; text-decoration-color: #00af00\">0</span> (0.00 B)\n",
       "</pre>\n"
      ],
      "text/plain": [
       "\u001b[1m Non-trainable params: \u001b[0m\u001b[38;5;34m0\u001b[0m (0.00 B)\n"
      ]
     },
     "metadata": {},
     "output_type": "display_data"
    }
   ],
   "source": [
    "model4 = Sequential()\n",
    "model4.add(InputLayer((cos_train_x.shape[1], cos_train_x.shape[2])))  \n",
    "model4.add(LSTM(128, activation='relu',kernel_regularizer=regularizers.l2(0.01), return_sequences=True)) \n",
    "model4.add(LSTM(64, activation='relu',kernel_regularizer=regularizers.l2(0.01),return_sequences=True))  \n",
    "model4.add(LSTM(32, activation='relu',kernel_regularizer=regularizers.l2(0.01),return_sequences=True))  \n",
    "model4.add(LSTM(16, activation='relu',kernel_regularizer=regularizers.l2(0.01),return_sequences=True))  \n",
    "model4.add(LSTM(8, activation='relu',kernel_regularizer=regularizers.l2(0.01)))\n",
    "model4.add(Dense(8, activation='relu'))\n",
    "model4.add(Dense(cos_train_y.shape[1]))  # Output layer\n",
    "\n",
    "model4.summary()"
   ]
  },
  {
   "cell_type": "code",
   "execution_count": 47,
   "id": "421e930e",
   "metadata": {},
   "outputs": [],
   "source": [
    "model4 = keras.models.load_model(\"data/model4/my_model.keras\")"
   ]
  },
  {
   "cell_type": "code",
   "execution_count": 70,
   "id": "41ced130",
   "metadata": {},
   "outputs": [
    {
     "name": "stdout",
     "output_type": "stream",
     "text": [
      "\u001b[1m469/469\u001b[0m \u001b[32m━━━━━━━━━━━━━━━━━━━━\u001b[0m\u001b[37m\u001b[0m \u001b[1m236s\u001b[0m 147ms/step - loss: 0.0916 - val_loss: 2.6966\n"
     ]
    }
   ],
   "source": [
    "from keras import callbacks\n",
    "from keras.callbacks import EarlyStopping, LearningRateScheduler\n",
    "\n",
    "# Define the early stopping callback\n",
    "early_stopping = EarlyStopping(monitor='val_loss', patience=3)\n",
    "\n",
    "# Define the learning rate schedule function\n",
    "def lr_schedule(epoch):\n",
    "    if epoch < 10:\n",
    "        return 0.001\n",
    "    else:\n",
    "        return 0.0001\n",
    "\n",
    "# Define the learning rate scheduler callback\n",
    "lr_scheduler = LearningRateScheduler(lr_schedule)\n",
    "\n",
    "# Compile the model\n",
    "model.compile(optimizer='adam', loss='binary_crossentropy', metrics=['accuracy'])\n",
    "\n",
    "# Train the model with early stopping and learning rate scheduling\n",
    "history = model.fit(x_train, y_train, validation_data=(x_val, y_val), epochs=20, batch_size=32, callbacks=[early_stopping, lr_scheduler])\n"
   ]
  },
  {
   "cell_type": "code",
   "execution_count": 54,
   "id": "25f667b0",
   "metadata": {},
   "outputs": [
    {
     "name": "stdout",
     "output_type": "stream",
     "text": [
      "\u001b[1m142/142\u001b[0m \u001b[32m━━━━━━━━━━━━━━━━━━━━\u001b[0m\u001b[37m\u001b[0m \u001b[1m4s\u001b[0m 26ms/step\n"
     ]
    }
   ],
   "source": [
    "cos_predictions = model4.predict(cos_test_x).flatten()"
   ]
  },
  {
   "cell_type": "code",
   "execution_count": 68,
   "id": "07270596",
   "metadata": {},
   "outputs": [
    {
     "data": {
      "text/plain": [
       "array([[ 1.35828557,  1.35828557,  1.35828557,  1.35828557,  1.35828557],\n",
       "       [ 1.13499841,  1.13499841,  1.13499841,  1.13499841,  1.13499841],\n",
       "       [ 0.00240626,  0.00240626,  0.00240626,  0.00240626,  0.00240626],\n",
       "       ...,\n",
       "       [-0.3186318 , -0.3186318 , -0.3186318 , -0.3186318 , -0.3186318 ],\n",
       "       [-0.19245302, -0.19245302, -0.19245302, -0.19245302, -0.19245302],\n",
       "       [-0.16737385, -0.16737385, -0.16737385, -0.16737385, -0.16737385]])"
      ]
     },
     "execution_count": 68,
     "metadata": {},
     "output_type": "execute_result"
    }
   ],
   "source": [
    "prediction_copies = np.repeat(cos_predictions, cos_test_x.shape[2], axis=0).reshape(cos_predictions.shape[0], cos_test_x.shape[2])\n",
    "all = np.repeat(cos_train_y, cos_train_x.shape[2]).reshape(cos_train_y.shape[0], cos_train_x.shape[2])\n",
    "all"
   ]
  },
  {
   "cell_type": "code",
   "execution_count": 69,
   "id": "6bf4c75d",
   "metadata": {},
   "outputs": [
    {
     "data": {
      "text/html": [
       "<div>\n",
       "<style scoped>\n",
       "    .dataframe tbody tr th:only-of-type {\n",
       "        vertical-align: middle;\n",
       "    }\n",
       "\n",
       "    .dataframe tbody tr th {\n",
       "        vertical-align: top;\n",
       "    }\n",
       "\n",
       "    .dataframe thead th {\n",
       "        text-align: right;\n",
       "    }\n",
       "</style>\n",
       "<table border=\"1\" class=\"dataframe\">\n",
       "  <thead>\n",
       "    <tr style=\"text-align: right;\">\n",
       "      <th></th>\n",
       "      <th>Train Predictions</th>\n",
       "      <th>Actuals</th>\n",
       "    </tr>\n",
       "  </thead>\n",
       "  <tbody>\n",
       "    <tr>\n",
       "      <th>0</th>\n",
       "      <td>130180.617188</td>\n",
       "      <td>402769.0</td>\n",
       "    </tr>\n",
       "    <tr>\n",
       "      <th>1</th>\n",
       "      <td>257360.578125</td>\n",
       "      <td>350293.0</td>\n",
       "    </tr>\n",
       "    <tr>\n",
       "      <th>2</th>\n",
       "      <td>259622.218750</td>\n",
       "      <td>84116.0</td>\n",
       "    </tr>\n",
       "    <tr>\n",
       "      <th>3</th>\n",
       "      <td>154100.781250</td>\n",
       "      <td>132256.0</td>\n",
       "    </tr>\n",
       "    <tr>\n",
       "      <th>4</th>\n",
       "      <td>140682.593750</td>\n",
       "      <td>16717.0</td>\n",
       "    </tr>\n",
       "    <tr>\n",
       "      <th>...</th>\n",
       "      <td>...</td>\n",
       "      <td>...</td>\n",
       "    </tr>\n",
       "    <tr>\n",
       "      <th>4528</th>\n",
       "      <td>164029.859375</td>\n",
       "      <td>91630.0</td>\n",
       "    </tr>\n",
       "    <tr>\n",
       "      <th>4529</th>\n",
       "      <td>130069.398438</td>\n",
       "      <td>32070.0</td>\n",
       "    </tr>\n",
       "    <tr>\n",
       "      <th>4530</th>\n",
       "      <td>38211.664062</td>\n",
       "      <td>8667.0</td>\n",
       "    </tr>\n",
       "    <tr>\n",
       "      <th>4531</th>\n",
       "      <td>47623.625000</td>\n",
       "      <td>38321.0</td>\n",
       "    </tr>\n",
       "    <tr>\n",
       "      <th>4532</th>\n",
       "      <td>44364.949219</td>\n",
       "      <td>44215.0</td>\n",
       "    </tr>\n",
       "  </tbody>\n",
       "</table>\n",
       "<p>4533 rows × 2 columns</p>\n",
       "</div>"
      ],
      "text/plain": [
       "      Train Predictions   Actuals\n",
       "0         130180.617188  402769.0\n",
       "1         257360.578125  350293.0\n",
       "2         259622.218750   84116.0\n",
       "3         154100.781250  132256.0\n",
       "4         140682.593750   16717.0\n",
       "...                 ...       ...\n",
       "4528      164029.859375   91630.0\n",
       "4529      130069.398438   32070.0\n",
       "4530       38211.664062    8667.0\n",
       "4531       47623.625000   38321.0\n",
       "4532       44364.949219   44215.0\n",
       "\n",
       "[4533 rows x 2 columns]"
      ]
     },
     "execution_count": 69,
     "metadata": {},
     "output_type": "execute_result"
    }
   ],
   "source": [
    "y_pred_future = scalar.inverse_transform(prediction_copies)[:,curr_row]\n",
    "all_stif = scalar.inverse_transform(all)[:,curr_row]\n",
    "train_results = pd.DataFrame(data={'Train Predictions':y_pred_future, 'Actuals':all_stif})\n",
    "train_results"
   ]
  },
  {
   "cell_type": "code",
   "execution_count": 71,
   "id": "ebb3df1f",
   "metadata": {},
   "outputs": [
    {
     "name": "stdout",
     "output_type": "stream",
     "text": [
      "Mean Squared Error (MSE): 151432351447.38922\n",
      "Mean Absolute Error (MAE): 85944.44912329926\n",
      "Root Mean Squared Error (RMSE): 389143.0989332706\n",
      "R-squared (R2) Score: 0.48356645486016336\n"
     ]
    }
   ],
   "source": [
    "from sklearn.metrics import mean_squared_error, mean_absolute_error, r2_score\n",
    "mse = mean_squared_error(all_stif, y_pred_future)\n",
    "\n",
    "# Calculate Mean Absolute Error (MAE)\n",
    "mae = mean_absolute_error(all_stif, y_pred_future)\n",
    "\n",
    "# Calculate Root Mean Squared Error (RMSE)\n",
    "rmse = np.sqrt(mse)\n",
    "\n",
    "# Calculate R-squared (R2) Score\n",
    "r2 = r2_score(all_stif, y_pred_future)\n",
    "\n",
    "# Print the results\n",
    "print(\"Mean Squared Error (MSE):\", mse)\n",
    "print(\"Mean Absolute Error (MAE):\", mae)\n",
    "print(\"Root Mean Squared Error (RMSE):\", rmse)\n",
    "print(\"R-squared (R2) Score:\", r2)\n"
   ]
  },
  {
   "cell_type": "code",
   "execution_count": null,
   "id": "054d2f21",
   "metadata": {},
   "outputs": [],
   "source": []
  }
 ],
 "metadata": {
  "kernelspec": {
   "display_name": "Python 3 (ipykernel)",
   "language": "python",
   "name": "python3"
  },
  "language_info": {
   "codemirror_mode": {
    "name": "ipython",
    "version": 3
   },
   "file_extension": ".py",
   "mimetype": "text/x-python",
   "name": "python",
   "nbconvert_exporter": "python",
   "pygments_lexer": "ipython3",
   "version": "3.11.0rc1"
  }
 },
 "nbformat": 4,
 "nbformat_minor": 5
}
